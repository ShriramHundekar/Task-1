{
 "cells": [
  {
   "cell_type": "markdown",
   "id": "3c2735c6",
   "metadata": {},
   "source": [
    "# Titanic Dataset - Data Cleaning & Preprocessing\n",
    "This notebook walks through the data cleaning and preprocessing steps applied to the Titanic dataset."
   ]
  },
  {
   "cell_type": "code",
   "execution_count": 2,
   "id": "08c34f3f",
   "metadata": {},
   "outputs": [
    {
     "name": "stdout",
     "output_type": "stream",
     "text": [
      "<class 'pandas.core.frame.DataFrame'>\n",
      "RangeIndex: 891 entries, 0 to 890\n",
      "Data columns (total 12 columns):\n",
      " #   Column       Non-Null Count  Dtype  \n",
      "---  ------       --------------  -----  \n",
      " 0   PassengerId  891 non-null    int64  \n",
      " 1   Survived     891 non-null    int64  \n",
      " 2   Pclass       891 non-null    int64  \n",
      " 3   Name         891 non-null    object \n",
      " 4   Sex          891 non-null    object \n",
      " 5   Age          714 non-null    float64\n",
      " 6   SibSp        891 non-null    int64  \n",
      " 7   Parch        891 non-null    int64  \n",
      " 8   Ticket       891 non-null    object \n",
      " 9   Fare         891 non-null    float64\n",
      " 10  Cabin        204 non-null    object \n",
      " 11  Embarked     889 non-null    object \n",
      "dtypes: float64(2), int64(5), object(5)\n",
      "memory usage: 83.7+ KB\n",
      "None\n",
      "   PassengerId  Survived  Pclass  \\\n",
      "0            1         0       3   \n",
      "1            2         1       1   \n",
      "2            3         1       3   \n",
      "3            4         1       1   \n",
      "4            5         0       3   \n",
      "\n",
      "                                                Name     Sex   Age  SibSp  \\\n",
      "0                            Braund, Mr. Owen Harris    male  22.0      1   \n",
      "1  Cumings, Mrs. John Bradley (Florence Briggs Th...  female  38.0      1   \n",
      "2                             Heikkinen, Miss. Laina  female  26.0      0   \n",
      "3       Futrelle, Mrs. Jacques Heath (Lily May Peel)  female  35.0      1   \n",
      "4                           Allen, Mr. William Henry    male  35.0      0   \n",
      "\n",
      "   Parch            Ticket     Fare Cabin Embarked  \n",
      "0      0         A/5 21171   7.2500   NaN        S  \n",
      "1      0          PC 17599  71.2833   C85        C  \n",
      "2      0  STON/O2. 3101282   7.9250   NaN        S  \n",
      "3      0            113803  53.1000  C123        S  \n",
      "4      0            373450   8.0500   NaN        S  \n"
     ]
    }
   ],
   "source": [
    "import pandas as pd\n",
    "df = pd.read_csv(\"https://raw.githubusercontent.com/datasciencedojo/datasets/master/titanic.csv\")\n",
    "print(df.info())\n",
    "print(df.head())\n"
   ]
  },
  {
   "cell_type": "markdown",
   "id": "08cf0ea1",
   "metadata": {},
   "source": [
    "### Step 1: Load and Explore Dataset\n",
    "We load the Titanic dataset and inspect its structure."
   ]
  },
  {
   "cell_type": "code",
   "execution_count": 3,
   "id": "e7e5e575",
   "metadata": {},
   "outputs": [
    {
     "name": "stdout",
     "output_type": "stream",
     "text": [
      "PassengerId      0\n",
      "Survived         0\n",
      "Pclass           0\n",
      "Name             0\n",
      "Sex              0\n",
      "Age            177\n",
      "SibSp            0\n",
      "Parch            0\n",
      "Ticket           0\n",
      "Fare             0\n",
      "Cabin          687\n",
      "Embarked         2\n",
      "dtype: int64\n"
     ]
    }
   ],
   "source": [
    "print(df.isnull().sum())\n",
    "df['Age'] = df['Age'].fillna(df['Age'].median())\n",
    "df['Embarked'] = df['Embarked'].fillna(df['Embarked'].mode()[0])\n",
    "df = df.drop(columns='Cabin', errors='ignore')\n",
    "\n"
   ]
  },
  {
   "cell_type": "markdown",
   "id": "20dd1c72",
   "metadata": {},
   "source": [
    "### Step 2: Handle Missing Values\n",
    "We identify and handle missing values using median for 'Age' and mode for 'Embarked'. The 'Cabin' column is dropped."
   ]
  },
  {
   "cell_type": "code",
   "execution_count": 4,
   "id": "b83ab90b",
   "metadata": {},
   "outputs": [],
   "source": [
    "df = pd.get_dummies(df, columns=['Sex', 'Embarked'], drop_first=True)"
   ]
  },
  {
   "cell_type": "markdown",
   "id": "28f652ee",
   "metadata": {},
   "source": [
    "### Step 3: Encode Categorical Variables\n",
    "We convert categorical features like 'Sex' and 'Embarked' into numerical format using one-hot encoding."
   ]
  },
  {
   "cell_type": "code",
   "execution_count": 5,
   "id": "210463ed",
   "metadata": {},
   "outputs": [],
   "source": [
    "from sklearn.preprocessing import StandardScaler\n",
    "scaler = StandardScaler()\n",
    "df[['Age', 'Fare']] = scaler.fit_transform(df[['Age', 'Fare']])"
   ]
  },
  {
   "cell_type": "markdown",
   "id": "ddb6990c",
   "metadata": {},
   "source": [
    "### Step 4: Standardize Numerical Features\n",
    "We standardize 'Age' and 'Fare' to bring them to the same scale using StandardScaler."
   ]
  },
  {
   "cell_type": "code",
   "execution_count": 6,
   "id": "565d90b6",
   "metadata": {},
   "outputs": [
    {
     "data": {
      "image/png": "[encoded data removed]",
      "text/plain": [
       "<Figure size 1000x500 with 1 Axes>"
      ]
     },
     "metadata": {},
     "output_type": "display_data"
    }
   ],
   "source": [
    "import seaborn as sns\n",
    "import matplotlib.pyplot as plt\n",
    "plt.figure(figsize=(10,5))\n",
    "sns.boxplot(x=df['Fare'])\n",
    "plt.title(\"Boxplot for Fare\")\n",
    "plt.show()\n",
    "Q1 = df['Fare'].quantile(0.25)\n",
    "Q3 = df['Fare'].quantile(0.75)\n",
    "IQR = Q3 - Q1\n",
    "lower_bound = Q1 - 1.5 * IQR\n",
    "upper_bound = Q3 + 1.5 * IQR\n",
    "df = df[(df['Fare'] >= lower_bound) & (df['Fare'] <= upper_bound)]"
   ]
  },
  {
   "cell_type": "markdown",
   "id": "b46a6f49",
   "metadata": {},
   "source": [
    "### Step 5: Visualize and Remove Outliers\n",
    "We use a boxplot to visualize outliers in 'Fare' and remove them using the IQR method."
   ]
  },
  {
   "cell_type": "code",
   "execution_count": 7,
   "id": "dc439ff8",
   "metadata": {},
   "outputs": [],
   "source": [
    "df.to_csv('cleaned_titanic_data.csv', index=False)"
   ]
  }
 ],
 "metadata": {
  "colab": {
   "provenance": []
  },
  "kernelspec": {
   "display_name": "base",
   "language": "python",
   "name": "python3"
  },
  "language_info": {
   "codemirror_mode": {
    "name": "ipython",
    "version": 3
   },
   "file_extension": ".py",
   "mimetype": "text/x-python",
   "name": "python",
   "nbconvert_exporter": "python",
   "pygments_lexer": "ipython3",
   "version": "3.12.7"
  }
 },
 "nbformat": 4,
 "nbformat_minor": 5
}
